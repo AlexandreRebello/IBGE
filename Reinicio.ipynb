{
 "cells": [
  {
   "cell_type": "code",
   "execution_count": 14,
   "metadata": {},
   "outputs": [
    {
     "name": "stdout",
     "output_type": "stream",
     "text": [
      "  tabela\n",
      "0   6784\n",
      "1   2093\n",
      "2   1621\n",
      "https://servicodados.ibge.gov.br/api/v3/agregados/6784/metadados\n",
      "https://servicodados.ibge.gov.br/api/v3/agregados/2093/metadados\n"
     ]
    },
    {
     "ename": "KeyError",
     "evalue": "'classificacoes'",
     "output_type": "error",
     "traceback": [
      "\u001b[1;31m---------------------------------------------------------------------------\u001b[0m",
      "\u001b[1;31mKeyError\u001b[0m                                  Traceback (most recent call last)",
      "Cell \u001b[1;32mIn[14], line 47\u001b[0m\n\u001b[0;32m     32\u001b[0m     dataT \u001b[38;5;241m=\u001b[39m responseT\u001b[38;5;241m.\u001b[39mjson()\n\u001b[0;32m     33\u001b[0m     \u001b[38;5;66;03m#data_list = []\u001b[39;00m\n\u001b[0;32m     34\u001b[0m \n\u001b[0;32m     35\u001b[0m     \u001b[38;5;66;03m#for item in dataT:\u001b[39;00m\n\u001b[1;32m   (...)\u001b[0m\n\u001b[0;32m     45\u001b[0m             \u001b[38;5;66;03m#    cat_nivel = categoria['nivel']\u001b[39;00m\n\u001b[0;32m     46\u001b[0m             \u001b[38;5;66;03m#   data_list.append([id,class_id,cat_id])\u001b[39;00m\n\u001b[1;32m---> 47\u001b[0m     df_categ \u001b[38;5;241m=\u001b[39m \u001b[43mpd\u001b[49m\u001b[38;5;241;43m.\u001b[39;49m\u001b[43mjson_normalize\u001b[49m\u001b[43m(\u001b[49m\u001b[43mdataT\u001b[49m\u001b[43m,\u001b[49m\n\u001b[0;32m     48\u001b[0m \u001b[43m    \u001b[49m\u001b[43mrecord_path\u001b[49m\u001b[38;5;241;43m=\u001b[39;49m\u001b[43m[\u001b[49m\u001b[38;5;124;43m'\u001b[39;49m\u001b[38;5;124;43mclassificacoes\u001b[39;49m\u001b[38;5;124;43m'\u001b[39;49m\u001b[43m,\u001b[49m\u001b[38;5;124;43m'\u001b[39;49m\u001b[38;5;124;43mcategorias\u001b[39;49m\u001b[38;5;124;43m'\u001b[39;49m\u001b[43m]\u001b[49m\u001b[43m,\u001b[49m\n\u001b[0;32m     49\u001b[0m \u001b[43m    \u001b[49m\u001b[43mmeta\u001b[49m\u001b[38;5;241;43m=\u001b[39;49m\u001b[43m[\u001b[49m\u001b[38;5;124;43m\"\u001b[39;49m\u001b[38;5;124;43mid\u001b[39;49m\u001b[38;5;124;43m\"\u001b[39;49m\u001b[43m,\u001b[49m\u001b[43m[\u001b[49m\u001b[38;5;124;43m\"\u001b[39;49m\u001b[38;5;124;43mclassificacoes\u001b[39;49m\u001b[38;5;124;43m\"\u001b[39;49m\u001b[43m,\u001b[49m\u001b[38;5;124;43m\"\u001b[39;49m\u001b[38;5;124;43mid\u001b[39;49m\u001b[38;5;124;43m\"\u001b[39;49m\u001b[43m]\u001b[49m\u001b[43m,\u001b[49m\u001b[43m[\u001b[49m\u001b[38;5;124;43m\"\u001b[39;49m\u001b[38;5;124;43mclassificacoes\u001b[39;49m\u001b[38;5;124;43m\"\u001b[39;49m\u001b[43m,\u001b[49m\u001b[38;5;124;43m\"\u001b[39;49m\u001b[38;5;124;43mnome\u001b[39;49m\u001b[38;5;124;43m\"\u001b[39;49m\u001b[43m]\u001b[49m\u001b[43m]\u001b[49m\u001b[43m,\u001b[49m\n\u001b[0;32m     50\u001b[0m \u001b[43m    \u001b[49m\u001b[43mmeta_prefix\u001b[49m\u001b[38;5;241;43m=\u001b[39;49m\u001b[38;5;124;43m'\u001b[39;49m\u001b[38;5;124;43mtabela_\u001b[39;49m\u001b[38;5;124;43m'\u001b[39;49m\u001b[43m,\u001b[49m\n\u001b[0;32m     51\u001b[0m \u001b[43m    \u001b[49m\u001b[43mrecord_prefix\u001b[49m\u001b[38;5;241;43m=\u001b[39;49m\u001b[38;5;124;43m'\u001b[39;49m\u001b[38;5;124;43mcateg_\u001b[39;49m\u001b[38;5;124;43m'\u001b[39;49m\u001b[43m,\u001b[49m\n\u001b[0;32m     52\u001b[0m \u001b[43m    \u001b[49m\u001b[43merrors\u001b[49m\u001b[38;5;241;43m=\u001b[39;49m\u001b[38;5;124;43m'\u001b[39;49m\u001b[38;5;124;43mignore\u001b[39;49m\u001b[38;5;124;43m'\u001b[39;49m\n\u001b[0;32m     53\u001b[0m \u001b[43m    \u001b[49m\u001b[43m)\u001b[49m\n\u001b[0;32m     54\u001b[0m     df_categ\n\u001b[0;32m     55\u001b[0m     \u001b[38;5;66;03m#df = pd.DataFrame(data_list, columns=[\u001b[39;00m\n\u001b[0;32m     56\u001b[0m     \u001b[38;5;66;03m#            'id_tabela', 'id_classificacao','id_categoria'])\u001b[39;00m\n\u001b[0;32m     57\u001b[0m     \u001b[38;5;66;03m#df_categ.to_csv(\"teste6.csv\",mode='a',header=False)\u001b[39;00m\n\u001b[0;32m     58\u001b[0m \u001b[38;5;28;01melse\u001b[39;00m:\n",
      "File \u001b[1;32mc:\\Users\\Alexandre Rebello\\AppData\\Local\\Programs\\Python\\Python311\\Lib\\site-packages\\pandas\\io\\json\\_normalize.py:517\u001b[0m, in \u001b[0;36mjson_normalize\u001b[1;34m(data, record_path, meta, meta_prefix, record_prefix, errors, sep, max_level)\u001b[0m\n\u001b[0;32m    514\u001b[0m                 meta_vals[key]\u001b[38;5;241m.\u001b[39mappend(meta_val)\n\u001b[0;32m    515\u001b[0m             records\u001b[38;5;241m.\u001b[39mextend(recs)\n\u001b[1;32m--> 517\u001b[0m \u001b[43m_recursive_extract\u001b[49m\u001b[43m(\u001b[49m\u001b[43mdata\u001b[49m\u001b[43m,\u001b[49m\u001b[43m \u001b[49m\u001b[43mrecord_path\u001b[49m\u001b[43m,\u001b[49m\u001b[43m \u001b[49m\u001b[43m{\u001b[49m\u001b[43m}\u001b[49m\u001b[43m,\u001b[49m\u001b[43m \u001b[49m\u001b[43mlevel\u001b[49m\u001b[38;5;241;43m=\u001b[39;49m\u001b[38;5;241;43m0\u001b[39;49m\u001b[43m)\u001b[49m\n\u001b[0;32m    519\u001b[0m result \u001b[38;5;241m=\u001b[39m DataFrame(records)\n\u001b[0;32m    521\u001b[0m \u001b[38;5;28;01mif\u001b[39;00m record_prefix \u001b[38;5;129;01mis\u001b[39;00m \u001b[38;5;129;01mnot\u001b[39;00m \u001b[38;5;28;01mNone\u001b[39;00m:\n",
      "File \u001b[1;32mc:\\Users\\Alexandre Rebello\\AppData\\Local\\Programs\\Python\\Python311\\Lib\\site-packages\\pandas\\io\\json\\_normalize.py:496\u001b[0m, in \u001b[0;36mjson_normalize.<locals>._recursive_extract\u001b[1;34m(data, path, seen_meta, level)\u001b[0m\n\u001b[0;32m    493\u001b[0m             \u001b[38;5;28;01mif\u001b[39;00m level \u001b[38;5;241m+\u001b[39m \u001b[38;5;241m1\u001b[39m \u001b[38;5;241m==\u001b[39m \u001b[38;5;28mlen\u001b[39m(val):\n\u001b[0;32m    494\u001b[0m                 seen_meta[key] \u001b[38;5;241m=\u001b[39m _pull_field(obj, val[\u001b[38;5;241m-\u001b[39m\u001b[38;5;241m1\u001b[39m])\n\u001b[1;32m--> 496\u001b[0m         _recursive_extract(\u001b[43mobj\u001b[49m\u001b[43m[\u001b[49m\u001b[43mpath\u001b[49m\u001b[43m[\u001b[49m\u001b[38;5;241;43m0\u001b[39;49m\u001b[43m]\u001b[49m\u001b[43m]\u001b[49m, path[\u001b[38;5;241m1\u001b[39m:], seen_meta, level\u001b[38;5;241m=\u001b[39mlevel \u001b[38;5;241m+\u001b[39m \u001b[38;5;241m1\u001b[39m)\n\u001b[0;32m    497\u001b[0m \u001b[38;5;28;01melse\u001b[39;00m:\n\u001b[0;32m    498\u001b[0m     \u001b[38;5;28;01mfor\u001b[39;00m obj \u001b[38;5;129;01min\u001b[39;00m data:\n",
      "\u001b[1;31mKeyError\u001b[0m: 'classificacoes'"
     ]
    }
   ],
   "source": [
    "import requests\n",
    "import pandas as pd\n",
    "import numpy as np\n",
    "import time\n",
    "\n",
    "response = requests.get('https://servicodados.ibge.gov.br/api/v3/agregados?nivel=N6')\n",
    "\n",
    "if response.status_code == 200:\n",
    "    data = response.json()\n",
    "\n",
    "    resultado = pd.DataFrame({'id_tabela':[], 'id_classificacao':[], 'nome_classificacao':[],'id_categoria':[]})\n",
    "\n",
    "    data_list = []\n",
    "\n",
    "    for item in data:\n",
    "        id = item['id']\n",
    "        pesquisa = item['nome']\n",
    "        for agregado in item['agregados']:\n",
    "            tabela = agregado['id']\n",
    "            nome_tabela = agregado['nome']\n",
    "            data_list.append([id, pesquisa, tabela, nome_tabela])\n",
    "            df = pd.DataFrame(data_list, columns=['id', 'pesquisa', 'tabela', 'nome_tabela'])\n",
    "    #lista = df['tabela']\n",
    "    print(lista)\n",
    "    lista= pd.DataFrame({'tabela':['6784','2093']})\n",
    "    for item in lista['tabela']:\n",
    "    #for item in lista:\n",
    "        tab = item\n",
    "        enderecoT = 'https://servicodados.ibge.gov.br/api/v3/agregados/'+tab+'/metadados'\n",
    "        print(enderecoT)\n",
    "        responseT = requests.get(enderecoT)\n",
    "        dataT = responseT.json()\n",
    "        #data_list = []\n",
    "\n",
    "        #for item in dataT:\n",
    "            #id = str(dataT['id'])\n",
    "            #pesquisa = data['pesquisa']\n",
    "            #tabela = data['nome']\n",
    "            #for classificacao in dataT['classificacoes']:\n",
    "                #class_id = str(classificacao['id'])\n",
    "                #class_nome = classificacao['nome']\n",
    "                #for categoria in classificacao['categorias']:\n",
    "                #    cat_id = str(categoria['id'])\n",
    "                #    cat_nome = categoria['nome']\n",
    "                #    cat_nivel = categoria['nivel']\n",
    "                #   data_list.append([id,class_id,cat_id])\n",
    "        df_categ = pd.json_normalize(dataT,\n",
    "        record_path=['classificacoes','categorias'],\n",
    "        meta=[\"id\",[\"classificacoes\",\"id\"],[\"classificacoes\",\"nome\"]],\n",
    "        meta_prefix='tabela_',\n",
    "        record_prefix='categ_',\n",
    "        errors='ignore'\n",
    "        )\n",
    "        df_categ\n",
    "        #df = pd.DataFrame(data_list, columns=[\n",
    "        #            'id_tabela', 'id_classificacao','id_categoria'])\n",
    "        #df_categ.to_csv(\"teste6.csv\",mode='a',header=False)\n",
    "    else:\n",
    "        print(f\"Request failed with status code {response.status_code}\")"
   ]
  },
  {
   "cell_type": "code",
   "execution_count": 25,
   "metadata": {},
   "outputs": [
    {
     "name": "stdout",
     "output_type": "stream",
     "text": [
      "https://servicodados.ibge.gov.br/api/v3/agregados/8418/variaveis?localidades=N1\n"
     ]
    },
    {
     "ename": "KeyError",
     "evalue": "'id'",
     "output_type": "error",
     "traceback": [
      "\u001b[1;31m---------------------------------------------------------------------------\u001b[0m",
      "\u001b[1;31mKeyError\u001b[0m                                  Traceback (most recent call last)",
      "Cell \u001b[1;32mIn[25], line 33\u001b[0m\n\u001b[0;32m     30\u001b[0m data_list \u001b[38;5;241m=\u001b[39m []\n\u001b[0;32m     32\u001b[0m \u001b[38;5;28;01mfor\u001b[39;00m item \u001b[38;5;129;01min\u001b[39;00m dataT:\n\u001b[1;32m---> 33\u001b[0m     var_id \u001b[38;5;241m=\u001b[39m \u001b[38;5;28mstr\u001b[39m(\u001b[43mdataT\u001b[49m\u001b[43m[\u001b[49m\u001b[38;5;124;43m'\u001b[39;49m\u001b[38;5;124;43mid\u001b[39;49m\u001b[38;5;124;43m'\u001b[39;49m\u001b[43m]\u001b[49m)\n\u001b[0;32m     34\u001b[0m     data_list\u001b[38;5;241m.\u001b[39mappend([var_id,tab])\n\u001b[0;32m     36\u001b[0m     df \u001b[38;5;241m=\u001b[39m pd\u001b[38;5;241m.\u001b[39mDataFrame(data_list, columns\u001b[38;5;241m=\u001b[39m[\n\u001b[0;32m     37\u001b[0m                 \u001b[38;5;124m'\u001b[39m\u001b[38;5;124mvar_id\u001b[39m\u001b[38;5;124m'\u001b[39m, \u001b[38;5;124m'\u001b[39m\u001b[38;5;124mtab_id\u001b[39m\u001b[38;5;124m'\u001b[39m])\n",
      "\u001b[1;31mKeyError\u001b[0m: 'id'"
     ]
    }
   ],
   "source": [
    "import requests\n",
    "import pandas as pd\n",
    "import numpy as np\n",
    "import time\n",
    "\n",
    "response = requests.get('https://servicodados.ibge.gov.br/api/v3/agregados?nivel=N6')\n",
    "\n",
    "if response.status_code == 200:\n",
    "    data = response.json()\n",
    "\n",
    "    resultado = pd.DataFrame({'var_id':[], 'tab_id':[]})\n",
    "\n",
    "    data_list = []\n",
    "\n",
    "    for item in data:\n",
    "        id = item['id']\n",
    "        pesquisa = item['nome']\n",
    "        for agregado in item['agregados']:\n",
    "            tabela = agregado['id']\n",
    "            nome_tabela = agregado['nome']\n",
    "            data_list.append([id, pesquisa, tabela, nome_tabela])\n",
    "            df = pd.DataFrame(data_list, columns=['id', 'pesquisa', 'tabela', 'nome_tabela'])\n",
    "    lista = df['tabela']\n",
    "    for item in lista:\n",
    "        tab = item\n",
    "        enderecoT = 'https://servicodados.ibge.gov.br/api/v3/agregados/'+tab+'/variaveis?localidades=N1'\n",
    "        print(enderecoT)\n",
    "        responseT = requests.get(enderecoT)\n",
    "        dataT = responseT.json()\n",
    "        data_list = []\n",
    "\n",
    "        for item in dataT:\n",
    "            var_id = str(dataT['id'])\n",
    "            data_list.append([var_id,tab])\n",
    "\n",
    "            df = pd.DataFrame(data_list, columns=[\n",
    "                        'var_id', 'tab_id'])\n",
    "        resultado = pd.concat([resultado,df])\n",
    "            "
   ]
  },
  {
   "cell_type": "code",
   "execution_count": 26,
   "metadata": {},
   "outputs": [],
   "source": [
    "import requests\n",
    "import pandas as pd\n",
    "import numpy as np\n",
    "import time\n",
    "\n",
    "response = requests.get('https://servicodados.ibge.gov.br/api/v3/agregados?nivel=N6')\n",
    "\n",
    "if response.status_code == 200:\n",
    "    data = response.json()\n",
    "\n",
    "    resultado = pd.DataFrame({'id_tabela':[], 'id_classificacao':[], 'nome_classificacao':[],'id_categoria':[]})\n",
    "\n",
    "    data_list = []\n",
    "\n",
    "    for item in data:\n",
    "        id = item['id']\n",
    "        pesquisa = item['nome']\n",
    "        for agregado in item['agregados']:\n",
    "            tabela = agregado['id']\n",
    "            nome_tabela = agregado['nome']\n",
    "            data_list.append([id, pesquisa, tabela, nome_tabela])\n",
    "            df = pd.DataFrame(data_list, columns=['id', 'pesquisa', 'tabela', 'nome_tabela'])\n",
    "    lista = df['tabela']\n",
    "    df.to_csv(\"tabs_IBGE.csv\")"
   ]
  },
  {
   "cell_type": "markdown",
   "metadata": {},
   "source": []
  }
 ],
 "metadata": {
  "kernelspec": {
   "display_name": "Python 3",
   "language": "python",
   "name": "python3"
  },
  "language_info": {
   "codemirror_mode": {
    "name": "ipython",
    "version": 3
   },
   "file_extension": ".py",
   "mimetype": "text/x-python",
   "name": "python",
   "nbconvert_exporter": "python",
   "pygments_lexer": "ipython3",
   "version": "3.11.8"
  }
 },
 "nbformat": 4,
 "nbformat_minor": 2
}
